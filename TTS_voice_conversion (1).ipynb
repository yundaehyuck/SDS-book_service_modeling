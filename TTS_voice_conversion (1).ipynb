{
  "nbformat": 4,
  "nbformat_minor": 0,
  "metadata": {
    "colab": {
      "provenance": []
    },
    "kernelspec": {
      "name": "python3",
      "display_name": "Python 3"
    },
    "language_info": {
      "name": "python"
    }
  },
  "cells": [
    {
      "cell_type": "code",
      "source": [
        "!pip install TTS"
      ],
      "metadata": {
        "id": "WQq1fLSW0Fn6",
        "colab": {
          "base_uri": "https://localhost:8080/"
        },
        "outputId": "b717b6b0-8246-405c-9f60-2951bf0d5634"
      },
      "execution_count": null,
      "outputs": [
        {
          "output_type": "stream",
          "name": "stdout",
          "text": [
            "Looking in indexes: https://pypi.org/simple, https://us-python.pkg.dev/colab-wheels/public/simple/\n",
            "Collecting TTS\n",
            "  Downloading TTS-0.13.3-cp39-cp39-manylinux1_x86_64.whl (655 kB)\n",
            "\u001b[2K     \u001b[90m━━━━━━━━━━━━━━━━━━━━━━━━━━━━━━━━━━━━━━\u001b[0m \u001b[32m655.3/655.3 kB\u001b[0m \u001b[31m21.4 MB/s\u001b[0m eta \u001b[36m0:00:00\u001b[0m\n",
            "\u001b[?25hCollecting cython==0.29.28\n",
            "  Downloading Cython-0.29.28-cp39-cp39-manylinux_2_17_x86_64.manylinux2014_x86_64.manylinux_2_24_x86_64.whl (1.9 MB)\n",
            "\u001b[2K     \u001b[90m━━━━━━━━━━━━━━━━━━━━━━━━━━━━━━━━━━━━━━━━\u001b[0m \u001b[32m1.9/1.9 MB\u001b[0m \u001b[31m71.2 MB/s\u001b[0m eta \u001b[36m0:00:00\u001b[0m\n",
            "\u001b[?25hCollecting coqpit>=0.0.16\n",
            "  Downloading coqpit-0.0.17-py3-none-any.whl (13 kB)\n",
            "Requirement already satisfied: jieba in /usr/local/lib/python3.9/dist-packages (from TTS) (0.42.1)\n",
            "Collecting jamo\n",
            "  Downloading jamo-0.4.1-py3-none-any.whl (9.5 kB)\n",
            "Requirement already satisfied: flask in /usr/local/lib/python3.9/dist-packages (from TTS) (2.2.3)\n",
            "Collecting umap-learn==0.5.1\n",
            "  Downloading umap-learn-0.5.1.tar.gz (80 kB)\n",
            "\u001b[2K     \u001b[90m━━━━━━━━━━━━━━━━━━━━━━━━━━━━━━━━━━━━━━━━\u001b[0m \u001b[32m80.9/80.9 kB\u001b[0m \u001b[31m7.2 MB/s\u001b[0m eta \u001b[36m0:00:00\u001b[0m\n",
            "\u001b[?25h  Preparing metadata (setup.py) ... \u001b[?25l\u001b[?25hdone\n",
            "Collecting gruut[de]==2.2.3\n",
            "  Downloading gruut-2.2.3.tar.gz (73 kB)\n",
            "\u001b[2K     \u001b[90m━━━━━━━━━━━━━━━━━━━━━━━━━━━━━━━━━━━━━━━━\u001b[0m \u001b[32m73.5/73.5 kB\u001b[0m \u001b[31m7.2 MB/s\u001b[0m eta \u001b[36m0:00:00\u001b[0m\n",
            "\u001b[?25h  Preparing metadata (setup.py) ... \u001b[?25l\u001b[?25hdone\n",
            "Collecting bnunicodenormalizer==0.1.1\n",
            "  Downloading bnunicodenormalizer-0.1.1.tar.gz (38 kB)\n",
            "  Preparing metadata (setup.py) ... \u001b[?25l\u001b[?25hdone\n",
            "Collecting pypinyin\n",
            "  Downloading pypinyin-0.48.0-py2.py3-none-any.whl (1.4 MB)\n",
            "\u001b[2K     \u001b[90m━━━━━━━━━━━━━━━━━━━━━━━━━━━━━━━━━━━━━━━━\u001b[0m \u001b[32m1.4/1.4 MB\u001b[0m \u001b[31m42.4 MB/s\u001b[0m eta \u001b[36m0:00:00\u001b[0m\n",
            "\u001b[?25hRequirement already satisfied: matplotlib in /usr/local/lib/python3.9/dist-packages (from TTS) (3.7.1)\n",
            "Collecting inflect==5.6.0\n",
            "  Downloading inflect-5.6.0-py3-none-any.whl (33 kB)\n",
            "Collecting pysbd\n",
            "  Downloading pysbd-0.3.4-py3-none-any.whl (71 kB)\n",
            "\u001b[2K     \u001b[90m━━━━━━━━━━━━━━━━━━━━━━━━━━━━━━━━━━━━━━━━\u001b[0m \u001b[32m71.1/71.1 kB\u001b[0m \u001b[31m7.9 MB/s\u001b[0m eta \u001b[36m0:00:00\u001b[0m\n",
            "\u001b[?25hCollecting g2pkk>=0.1.1\n",
            "  Downloading g2pkk-0.1.2-py3-none-any.whl (25 kB)\n",
            "Requirement already satisfied: tqdm in /usr/local/lib/python3.9/dist-packages (from TTS) (4.65.0)\n",
            "Requirement already satisfied: pandas in /usr/local/lib/python3.9/dist-packages (from TTS) (1.5.3)\n",
            "Requirement already satisfied: scipy>=1.4.0 in /usr/local/lib/python3.9/dist-packages (from TTS) (1.10.1)\n",
            "Collecting bangla==0.0.2\n",
            "  Downloading bangla-0.0.2-py2.py3-none-any.whl (6.2 kB)\n",
            "Collecting mecab-python3==1.0.5\n",
            "  Downloading mecab_python3-1.0.5-cp39-cp39-manylinux_2_17_x86_64.manylinux2014_x86_64.whl (581 kB)\n",
            "\u001b[2K     \u001b[90m━━━━━━━━━━━━━━━━━━━━━━━━━━━━━━━━━━━━━━\u001b[0m \u001b[32m581.0/581.0 kB\u001b[0m \u001b[31m46.5 MB/s\u001b[0m eta \u001b[36m0:00:00\u001b[0m\n",
            "\u001b[?25hCollecting trainer==0.0.20\n",
            "  Downloading trainer-0.0.20-py3-none-any.whl (45 kB)\n",
            "\u001b[2K     \u001b[90m━━━━━━━━━━━━━━━━━━━━━━━━━━━━━━━━━━━━━━━━\u001b[0m \u001b[32m45.2/45.2 kB\u001b[0m \u001b[31m5.0 MB/s\u001b[0m eta \u001b[36m0:00:00\u001b[0m\n",
            "\u001b[?25hRequirement already satisfied: numba==0.56.4 in /usr/local/lib/python3.9/dist-packages (from TTS) (0.56.4)\n",
            "Requirement already satisfied: fsspec>=2021.04.0 in /usr/local/lib/python3.9/dist-packages (from TTS) (2023.4.0)\n",
            "Collecting unidic-lite==1.0.8\n",
            "  Downloading unidic-lite-1.0.8.tar.gz (47.4 MB)\n",
            "\u001b[2K     \u001b[90m━━━━━━━━━━━━━━━━━━━━━━━━━━━━━━━━━━━━━━━━\u001b[0m \u001b[32m47.4/47.4 MB\u001b[0m \u001b[31m16.6 MB/s\u001b[0m eta \u001b[36m0:00:00\u001b[0m\n",
            "\u001b[?25h  Preparing metadata (setup.py) ... \u001b[?25l\u001b[?25hdone\n",
            "Requirement already satisfied: soundfile in /usr/local/lib/python3.9/dist-packages (from TTS) (0.12.1)\n",
            "Collecting numpy==1.21.6\n",
            "  Downloading numpy-1.21.6-cp39-cp39-manylinux_2_12_x86_64.manylinux2010_x86_64.whl (15.7 MB)\n",
            "\u001b[2K     \u001b[90m━━━━━━━━━━━━━━━━━━━━━━━━━━━━━━━━━━━━━━━━\u001b[0m \u001b[32m15.7/15.7 MB\u001b[0m \u001b[31m49.2 MB/s\u001b[0m eta \u001b[36m0:00:00\u001b[0m\n",
            "\u001b[?25hRequirement already satisfied: torch>=1.7 in /usr/local/lib/python3.9/dist-packages (from TTS) (2.0.0+cu118)\n",
            "Requirement already satisfied: nltk in /usr/local/lib/python3.9/dist-packages (from TTS) (3.8.1)\n",
            "Requirement already satisfied: librosa==0.10.0.* in /usr/local/lib/python3.9/dist-packages (from TTS) (0.10.0.post2)\n",
            "Collecting aiohttp\n",
            "  Downloading aiohttp-3.8.4-cp39-cp39-manylinux_2_17_x86_64.manylinux2014_x86_64.whl (1.0 MB)\n",
            "\u001b[2K     \u001b[90m━━━━━━━━━━━━━━━━━━━━━━━━━━━━━━━━━━━━━━━━\u001b[0m \u001b[32m1.0/1.0 MB\u001b[0m \u001b[31m60.6 MB/s\u001b[0m eta \u001b[36m0:00:00\u001b[0m\n",
            "\u001b[?25hRequirement already satisfied: pyyaml in /usr/local/lib/python3.9/dist-packages (from TTS) (6.0)\n",
            "Requirement already satisfied: torchaudio in /usr/local/lib/python3.9/dist-packages (from TTS) (2.0.1+cu118)\n",
            "Collecting bnnumerizer\n",
            "  Downloading bnnumerizer-0.0.2.tar.gz (4.7 kB)\n",
            "  Preparing metadata (setup.py) ... \u001b[?25l\u001b[?25hdone\n",
            "Collecting anyascii\n",
            "  Downloading anyascii-0.3.2-py3-none-any.whl (289 kB)\n",
            "\u001b[2K     \u001b[90m━━━━━━━━━━━━━━━━━━━━━━━━━━━━━━━━━━━━━━\u001b[0m \u001b[32m289.9/289.9 kB\u001b[0m \u001b[31m23.5 MB/s\u001b[0m eta \u001b[36m0:00:00\u001b[0m\n",
            "\u001b[?25hRequirement already satisfied: packaging in /usr/local/lib/python3.9/dist-packages (from TTS) (23.1)\n",
            "Requirement already satisfied: Babel<3.0.0,>=2.8.0 in /usr/local/lib/python3.9/dist-packages (from gruut[de]==2.2.3->TTS) (2.12.1)\n",
            "Collecting dateparser~=1.1.0\n",
            "  Downloading dateparser-1.1.8-py2.py3-none-any.whl (293 kB)\n",
            "\u001b[2K     \u001b[90m━━━━━━━━━━━━━━━━━━━━━━━━━━━━━━━━━━━━━━━\u001b[0m \u001b[32m293.8/293.8 kB\u001b[0m \u001b[31m2.0 MB/s\u001b[0m eta \u001b[36m0:00:00\u001b[0m\n",
            "\u001b[?25hCollecting gruut-ipa<1.0,>=0.12.0\n",
            "  Downloading gruut-ipa-0.13.0.tar.gz (101 kB)\n",
            "\u001b[2K     \u001b[90m━━━━━━━━━━━━━━━━━━━━━━━━━━━━━━━━━━━━━━━\u001b[0m \u001b[32m101.6/101.6 kB\u001b[0m \u001b[31m9.1 MB/s\u001b[0m eta \u001b[36m0:00:00\u001b[0m\n",
            "\u001b[?25h  Preparing metadata (setup.py) ... \u001b[?25l\u001b[?25hdone\n",
            "Collecting gruut_lang_en~=2.0.0\n",
            "  Downloading gruut_lang_en-2.0.0.tar.gz (15.2 MB)\n",
            "\u001b[2K     \u001b[90m━━━━━━━━━━━━━━━━━━━━━━━━━━━━━━━━━━━━━━━━\u001b[0m \u001b[32m15.2/15.2 MB\u001b[0m \u001b[31m33.4 MB/s\u001b[0m eta \u001b[36m0:00:00\u001b[0m\n",
            "\u001b[?25h  Preparing metadata (setup.py) ... \u001b[?25l\u001b[?25hdone\n",
            "Collecting jsonlines~=1.2.0\n",
            "  Downloading jsonlines-1.2.0-py2.py3-none-any.whl (7.6 kB)\n",
            "Collecting networkx<3.0.0,>=2.5.0\n",
            "  Downloading networkx-2.8.8-py3-none-any.whl (2.0 MB)\n",
            "\u001b[2K     \u001b[90m━━━━━━━━━━━━━━━━━━━━━━━━━━━━━━━━━━━━━━━━\u001b[0m \u001b[32m2.0/2.0 MB\u001b[0m \u001b[31m73.1 MB/s\u001b[0m eta \u001b[36m0:00:00\u001b[0m\n",
            "\u001b[?25hCollecting num2words<1.0.0,>=0.5.10\n",
            "  Downloading num2words-0.5.12-py3-none-any.whl (125 kB)\n",
            "\u001b[2K     \u001b[90m━━━━━━━━━━━━━━━━━━━━━━━━━━━━━━━━━━━━━━\u001b[0m \u001b[32m125.2/125.2 kB\u001b[0m \u001b[31m14.5 MB/s\u001b[0m eta \u001b[36m0:00:00\u001b[0m\n",
            "\u001b[?25hCollecting python-crfsuite~=0.9.7\n",
            "  Downloading python_crfsuite-0.9.9-cp39-cp39-manylinux_2_17_x86_64.manylinux2014_x86_64.whl (1.0 MB)\n",
            "\u001b[2K     \u001b[90m━━━━━━━━━━━━━━━━━━━━━━━━━━━━━━━━━━━━━━━━\u001b[0m \u001b[32m1.0/1.0 MB\u001b[0m \u001b[31m54.2 MB/s\u001b[0m eta \u001b[36m0:00:00\u001b[0m\n",
            "\u001b[?25hCollecting gruut_lang_de~=2.0.0\n",
            "  Downloading gruut_lang_de-2.0.0.tar.gz (18.1 MB)\n",
            "\u001b[2K     \u001b[90m━━━━━━━━━━━━━━━━━━━━━━━━━━━━━━━━━━━━━━━━\u001b[0m \u001b[32m18.1/18.1 MB\u001b[0m \u001b[31m16.2 MB/s\u001b[0m eta \u001b[36m0:00:00\u001b[0m\n",
            "\u001b[?25h  Preparing metadata (setup.py) ... \u001b[?25l\u001b[?25hdone\n",
            "Requirement already satisfied: decorator>=4.3.0 in /usr/local/lib/python3.9/dist-packages (from librosa==0.10.0.*->TTS) (4.4.2)\n",
            "Requirement already satisfied: lazy-loader>=0.1 in /usr/local/lib/python3.9/dist-packages (from librosa==0.10.0.*->TTS) (0.2)\n",
            "Requirement already satisfied: soxr>=0.3.2 in /usr/local/lib/python3.9/dist-packages (from librosa==0.10.0.*->TTS) (0.3.5)\n",
            "Requirement already satisfied: typing-extensions>=4.1.1 in /usr/local/lib/python3.9/dist-packages (from librosa==0.10.0.*->TTS) (4.5.0)\n",
            "Requirement already satisfied: audioread>=2.1.9 in /usr/local/lib/python3.9/dist-packages (from librosa==0.10.0.*->TTS) (3.0.0)\n",
            "Requirement already satisfied: scikit-learn>=0.20.0 in /usr/local/lib/python3.9/dist-packages (from librosa==0.10.0.*->TTS) (1.2.2)\n",
            "Requirement already satisfied: pooch<1.7,>=1.0 in /usr/local/lib/python3.9/dist-packages (from librosa==0.10.0.*->TTS) (1.6.0)\n",
            "Requirement already satisfied: msgpack>=1.0 in /usr/local/lib/python3.9/dist-packages (from librosa==0.10.0.*->TTS) (1.0.5)\n",
            "Requirement already satisfied: joblib>=0.14 in /usr/local/lib/python3.9/dist-packages (from librosa==0.10.0.*->TTS) (1.2.0)\n",
            "Requirement already satisfied: setuptools in /usr/local/lib/python3.9/dist-packages (from numba==0.56.4->TTS) (67.7.2)\n",
            "Requirement already satisfied: llvmlite<0.40,>=0.39.0dev0 in /usr/local/lib/python3.9/dist-packages (from numba==0.56.4->TTS) (0.39.1)\n",
            "Collecting protobuf<3.20,>=3.9.2\n",
            "  Downloading protobuf-3.19.6-cp39-cp39-manylinux_2_17_x86_64.manylinux2014_x86_64.whl (1.1 MB)\n",
            "\u001b[2K     \u001b[90m━━━━━━━━━━━━━━━━━━━━━━━━━━━━━━━━━━━━━━━━\u001b[0m \u001b[32m1.1/1.1 MB\u001b[0m \u001b[31m59.5 MB/s\u001b[0m eta \u001b[36m0:00:00\u001b[0m\n",
            "\u001b[?25hCollecting tensorboardX\n",
            "  Downloading tensorboardX-2.6-py2.py3-none-any.whl (114 kB)\n",
            "\u001b[2K     \u001b[90m━━━━━━━━━━━━━━━━━━━━━━━━━━━━━━━━━━━━━━\u001b[0m \u001b[32m114.5/114.5 kB\u001b[0m \u001b[31m13.1 MB/s\u001b[0m eta \u001b[36m0:00:00\u001b[0m\n",
            "\u001b[?25hRequirement already satisfied: psutil in /usr/local/lib/python3.9/dist-packages (from trainer==0.0.20->TTS) (5.9.5)\n",
            "Collecting pynndescent>=0.5\n",
            "  Downloading pynndescent-0.5.10.tar.gz (1.1 MB)\n",
            "\u001b[2K     \u001b[90m━━━━━━━━━━━━━━━━━━━━━━━━━━━━━━━━━━━━━━━━\u001b[0m \u001b[32m1.1/1.1 MB\u001b[0m \u001b[31m50.0 MB/s\u001b[0m eta \u001b[36m0:00:00\u001b[0m\n",
            "\u001b[?25h  Preparing metadata (setup.py) ... \u001b[?25l\u001b[?25hdone\n",
            "Requirement already satisfied: cffi>=1.0 in /usr/local/lib/python3.9/dist-packages (from soundfile->TTS) (1.15.1)\n",
            "Requirement already satisfied: filelock in /usr/local/lib/python3.9/dist-packages (from torch>=1.7->TTS) (3.12.0)\n",
            "Requirement already satisfied: jinja2 in /usr/local/lib/python3.9/dist-packages (from torch>=1.7->TTS) (3.1.2)\n",
            "Requirement already satisfied: sympy in /usr/local/lib/python3.9/dist-packages (from torch>=1.7->TTS) (1.11.1)\n",
            "Requirement already satisfied: triton==2.0.0 in /usr/local/lib/python3.9/dist-packages (from torch>=1.7->TTS) (2.0.0)\n",
            "Requirement already satisfied: cmake in /usr/local/lib/python3.9/dist-packages (from triton==2.0.0->torch>=1.7->TTS) (3.25.2)\n",
            "Requirement already satisfied: lit in /usr/local/lib/python3.9/dist-packages (from triton==2.0.0->torch>=1.7->TTS) (16.0.2)\n",
            "Collecting yarl<2.0,>=1.0\n",
            "  Downloading yarl-1.9.2-cp39-cp39-manylinux_2_17_x86_64.manylinux2014_x86_64.whl (269 kB)\n",
            "\u001b[2K     \u001b[90m━━━━━━━━━━━━━━━━━━━━━━━━━━━━━━━━━━━━━━\u001b[0m \u001b[32m269.4/269.4 kB\u001b[0m \u001b[31m27.6 MB/s\u001b[0m eta \u001b[36m0:00:00\u001b[0m\n",
            "\u001b[?25hRequirement already satisfied: attrs>=17.3.0 in /usr/local/lib/python3.9/dist-packages (from aiohttp->TTS) (23.1.0)\n",
            "Collecting aiosignal>=1.1.2\n",
            "  Downloading aiosignal-1.3.1-py3-none-any.whl (7.6 kB)\n",
            "Requirement already satisfied: charset-normalizer<4.0,>=2.0 in /usr/local/lib/python3.9/dist-packages (from aiohttp->TTS) (2.0.12)\n",
            "Collecting multidict<7.0,>=4.5\n",
            "  Downloading multidict-6.0.4-cp39-cp39-manylinux_2_17_x86_64.manylinux2014_x86_64.whl (114 kB)\n",
            "\u001b[2K     \u001b[90m━━━━━━━━━━━━━━━━━━━━━━━━━━━━━━━━━━━━━\u001b[0m \u001b[32m114.2/114.2 kB\u001b[0m \u001b[31m356.3 kB/s\u001b[0m eta \u001b[36m0:00:00\u001b[0m\n",
            "\u001b[?25hCollecting frozenlist>=1.1.1\n",
            "  Downloading frozenlist-1.3.3-cp39-cp39-manylinux_2_5_x86_64.manylinux1_x86_64.manylinux_2_17_x86_64.manylinux2014_x86_64.whl (158 kB)\n",
            "\u001b[2K     \u001b[90m━━━━━━━━━━━━━━━━━━━━━━━━━━━━━━━━━━━━━━\u001b[0m \u001b[32m158.8/158.8 kB\u001b[0m \u001b[31m16.3 MB/s\u001b[0m eta \u001b[36m0:00:00\u001b[0m\n",
            "\u001b[?25hCollecting async-timeout<5.0,>=4.0.0a3\n",
            "  Downloading async_timeout-4.0.2-py3-none-any.whl (5.8 kB)\n",
            "Requirement already satisfied: importlib-metadata>=3.6.0 in /usr/local/lib/python3.9/dist-packages (from flask->TTS) (6.6.0)\n",
            "Requirement already satisfied: click>=8.0 in /usr/local/lib/python3.9/dist-packages (from flask->TTS) (8.1.3)\n",
            "Requirement already satisfied: Werkzeug>=2.2.2 in /usr/local/lib/python3.9/dist-packages (from flask->TTS) (2.2.3)\n",
            "Requirement already satisfied: itsdangerous>=2.0 in /usr/local/lib/python3.9/dist-packages (from flask->TTS) (2.1.2)\n",
            "Requirement already satisfied: python-dateutil>=2.7 in /usr/local/lib/python3.9/dist-packages (from matplotlib->TTS) (2.8.2)\n",
            "Requirement already satisfied: contourpy>=1.0.1 in /usr/local/lib/python3.9/dist-packages (from matplotlib->TTS) (1.0.7)\n",
            "Requirement already satisfied: pillow>=6.2.0 in /usr/local/lib/python3.9/dist-packages (from matplotlib->TTS) (8.4.0)\n",
            "Requirement already satisfied: cycler>=0.10 in /usr/local/lib/python3.9/dist-packages (from matplotlib->TTS) (0.11.0)\n",
            "Requirement already satisfied: fonttools>=4.22.0 in /usr/local/lib/python3.9/dist-packages (from matplotlib->TTS) (4.39.3)\n",
            "Requirement already satisfied: kiwisolver>=1.0.1 in /usr/local/lib/python3.9/dist-packages (from matplotlib->TTS) (1.4.4)\n",
            "Requirement already satisfied: importlib-resources>=3.2.0 in /usr/local/lib/python3.9/dist-packages (from matplotlib->TTS) (5.12.0)\n",
            "Requirement already satisfied: pyparsing>=2.3.1 in /usr/local/lib/python3.9/dist-packages (from matplotlib->TTS) (3.0.9)\n",
            "Requirement already satisfied: regex>=2021.8.3 in /usr/local/lib/python3.9/dist-packages (from nltk->TTS) (2022.10.31)\n",
            "Requirement already satisfied: pytz>=2020.1 in /usr/local/lib/python3.9/dist-packages (from pandas->TTS) (2022.7.1)\n",
            "Requirement already satisfied: pycparser in /usr/local/lib/python3.9/dist-packages (from cffi>=1.0->soundfile->TTS) (2.21)\n",
            "Requirement already satisfied: tzlocal in /usr/local/lib/python3.9/dist-packages (from dateparser~=1.1.0->gruut[de]==2.2.3->TTS) (4.3)\n",
            "Requirement already satisfied: zipp>=0.5 in /usr/local/lib/python3.9/dist-packages (from importlib-metadata>=3.6.0->flask->TTS) (3.15.0)\n",
            "Requirement already satisfied: MarkupSafe>=2.0 in /usr/local/lib/python3.9/dist-packages (from jinja2->torch>=1.7->TTS) (2.1.2)\n",
            "Requirement already satisfied: six in /usr/local/lib/python3.9/dist-packages (from jsonlines~=1.2.0->gruut[de]==2.2.3->TTS) (1.16.0)\n",
            "Collecting docopt>=0.6.2\n",
            "  Downloading docopt-0.6.2.tar.gz (25 kB)\n",
            "  Preparing metadata (setup.py) ... \u001b[?25l\u001b[?25hdone\n",
            "Requirement already satisfied: requests>=2.19.0 in /usr/local/lib/python3.9/dist-packages (from pooch<1.7,>=1.0->librosa==0.10.0.*->TTS) (2.27.1)\n",
            "Requirement already satisfied: appdirs>=1.3.0 in /usr/local/lib/python3.9/dist-packages (from pooch<1.7,>=1.0->librosa==0.10.0.*->TTS) (1.4.4)\n",
            "Requirement already satisfied: threadpoolctl>=2.0.0 in /usr/local/lib/python3.9/dist-packages (from scikit-learn>=0.20.0->librosa==0.10.0.*->TTS) (3.1.0)\n",
            "Requirement already satisfied: idna>=2.0 in /usr/local/lib/python3.9/dist-packages (from yarl<2.0,>=1.0->aiohttp->TTS) (3.4)\n",
            "Requirement already satisfied: mpmath>=0.19 in /usr/local/lib/python3.9/dist-packages (from sympy->torch>=1.7->TTS) (1.3.0)\n",
            "Requirement already satisfied: certifi>=2017.4.17 in /usr/local/lib/python3.9/dist-packages (from requests>=2.19.0->pooch<1.7,>=1.0->librosa==0.10.0.*->TTS) (2022.12.7)\n",
            "Requirement already satisfied: urllib3<1.27,>=1.21.1 in /usr/local/lib/python3.9/dist-packages (from requests>=2.19.0->pooch<1.7,>=1.0->librosa==0.10.0.*->TTS) (1.26.15)\n",
            "Requirement already satisfied: pytz-deprecation-shim in /usr/local/lib/python3.9/dist-packages (from tzlocal->dateparser~=1.1.0->gruut[de]==2.2.3->TTS) (0.1.0.post0)\n",
            "Requirement already satisfied: tzdata in /usr/local/lib/python3.9/dist-packages (from pytz-deprecation-shim->tzlocal->dateparser~=1.1.0->gruut[de]==2.2.3->TTS) (2023.3)\n",
            "Building wheels for collected packages: bnunicodenormalizer, umap-learn, unidic-lite, bnnumerizer, gruut-ipa, gruut_lang_de, gruut_lang_en, pynndescent, gruut, docopt\n",
            "  Building wheel for bnunicodenormalizer (setup.py) ... \u001b[?25l\u001b[?25hdone\n",
            "  Created wheel for bnunicodenormalizer: filename=bnunicodenormalizer-0.1.1-py3-none-any.whl size=21912 sha256=e68f03646787278b64e76c03f53da1cc8a51f38ad3624e7407b9f21c472d770d\n",
            "  Stored in directory: /root/.cache/pip/wheels/6c/7d/7b/9fd5945ea4d63daa9091e610e80b5b0bf837588cd5e531a348\n",
            "  Building wheel for umap-learn (setup.py) ... \u001b[?25l\u001b[?25hdone\n",
            "  Created wheel for umap-learn: filename=umap_learn-0.5.1-py3-none-any.whl size=76564 sha256=5966c544573335288718d6624ea6d16ea88be2fbcf81b2dc77c27e4c0ce8688b\n",
            "  Stored in directory: /root/.cache/pip/wheels/43/2a/f2/52ebe2689efb2811a7f09527d3ab043b54467b43848639c1e1\n",
            "  Building wheel for unidic-lite (setup.py) ... \u001b[?25l\u001b[?25hdone\n",
            "  Created wheel for unidic-lite: filename=unidic_lite-1.0.8-py3-none-any.whl size=47658834 sha256=3658d627e06a6848114c114e842f758f031188a8805a067c32dc4e1fcc53258e\n",
            "  Stored in directory: /root/.cache/pip/wheels/56/9c/4f/2c115e896b4b6c584039ca19de3581d333856782ef108cdc5c\n",
            "  Building wheel for bnnumerizer (setup.py) ... \u001b[?25l\u001b[?25hdone\n",
            "  Created wheel for bnnumerizer: filename=bnnumerizer-0.0.2-py3-none-any.whl size=5276 sha256=27eac932aec1f93282551aa78afe5db267104822d8b2e7834765ed496f9a667c\n",
            "  Stored in directory: /root/.cache/pip/wheels/cf/2f/42/a7c0e5bc7281b2e1b7bdfbd08d8220010b6df91ffdcfb571e7\n",
            "  Building wheel for gruut-ipa (setup.py) ... \u001b[?25l\u001b[?25hdone\n",
            "  Created wheel for gruut-ipa: filename=gruut_ipa-0.13.0-py3-none-any.whl size=104891 sha256=204ef68587390b342b8b892ecf7773ec79b5f59b339ffe8744804377d91f2f5b\n",
            "  Stored in directory: /root/.cache/pip/wheels/ab/22/10/9d98cfd0277a5876d450ca23902ecd0a41a5473efdcf309e6e\n",
            "  Building wheel for gruut_lang_de (setup.py) ... \u001b[?25l\u001b[?25hdone\n",
            "  Created wheel for gruut_lang_de: filename=gruut_lang_de-2.0.0-py3-none-any.whl size=18498199 sha256=6da9f34d573b60767a1dd4f3dc8606e740ef2ff9f7527b94eaac2d312bab53c1\n",
            "  Stored in directory: /root/.cache/pip/wheels/b7/dc/3d/825e41f38b3d3161751f97c0a0b65d0cd95a5a4702a883c8f9\n",
            "  Building wheel for gruut_lang_en (setup.py) ... \u001b[?25l\u001b[?25hdone\n",
            "  Created wheel for gruut_lang_en: filename=gruut_lang_en-2.0.0-py3-none-any.whl size=15297195 sha256=1a207ab0aec8954b64e28a41d58ed60827f861ee8b82077914e095a0e25759f4\n",
            "  Stored in directory: /root/.cache/pip/wheels/c0/29/5b/957782ce4d196eb0a6315836def9d7761ae85825a5747bcc97\n",
            "  Building wheel for pynndescent (setup.py) ... \u001b[?25l\u001b[?25hdone\n",
            "  Created wheel for pynndescent: filename=pynndescent-0.5.10-py3-none-any.whl size=55640 sha256=02b516a37870d6d091ffb8d83740d5c4fd1a950e89b67f81e9ecb2f1addda975\n",
            "  Stored in directory: /root/.cache/pip/wheels/12/f9/4d/ec5ad1c823c710fcc4473669fdcffc8891f4bc398c841af22e\n",
            "  Building wheel for gruut (setup.py) ... \u001b[?25l\u001b[?25hdone\n",
            "  Created wheel for gruut: filename=gruut-2.2.3-py3-none-any.whl size=75817 sha256=17e9c2455d5693e774a92fdb8f7d24aa95eacdf1b26202bde924276b4a3bd843\n",
            "  Stored in directory: /root/.cache/pip/wheels/2e/9c/b4/a963ba6c181aa3d65370c3aa40c420a249ff02cef4c724c071\n",
            "  Building wheel for docopt (setup.py) ... \u001b[?25l\u001b[?25hdone\n",
            "  Created wheel for docopt: filename=docopt-0.6.2-py2.py3-none-any.whl size=13721 sha256=1fc1b5de51686b9f7de17a1650ef1c739847f37750d1ea5e44f2b143cbc265e1\n",
            "  Stored in directory: /root/.cache/pip/wheels/70/4a/46/1309fc853b8d395e60bafaf1b6df7845bdd82c95fd59dd8d2b\n",
            "Successfully built bnunicodenormalizer umap-learn unidic-lite bnnumerizer gruut-ipa gruut_lang_de gruut_lang_en pynndescent gruut docopt\n",
            "Installing collected packages: unidic-lite, python-crfsuite, mecab-python3, jamo, gruut_lang_en, gruut_lang_de, docopt, bnunicodenormalizer, bnnumerizer, bangla, pysbd, pypinyin, protobuf, numpy, num2words, networkx, multidict, jsonlines, inflect, gruut-ipa, frozenlist, cython, coqpit, async-timeout, anyascii, yarl, tensorboardX, g2pkk, aiosignal, dateparser, aiohttp, pynndescent, gruut, umap-learn, trainer, TTS\n",
            "  Attempting uninstall: protobuf\n",
            "    Found existing installation: protobuf 3.20.3\n",
            "    Uninstalling protobuf-3.20.3:\n",
            "      Successfully uninstalled protobuf-3.20.3\n",
            "  Attempting uninstall: numpy\n",
            "    Found existing installation: numpy 1.22.4\n",
            "    Uninstalling numpy-1.22.4:\n",
            "      Successfully uninstalled numpy-1.22.4\n",
            "  Attempting uninstall: networkx\n",
            "    Found existing installation: networkx 3.1\n",
            "    Uninstalling networkx-3.1:\n",
            "      Successfully uninstalled networkx-3.1\n",
            "  Attempting uninstall: inflect\n",
            "    Found existing installation: inflect 6.0.4\n",
            "    Uninstalling inflect-6.0.4:\n",
            "      Successfully uninstalled inflect-6.0.4\n",
            "  Attempting uninstall: cython\n",
            "    Found existing installation: Cython 0.29.34\n",
            "    Uninstalling Cython-0.29.34:\n",
            "      Successfully uninstalled Cython-0.29.34\n",
            "\u001b[31mERROR: pip's dependency resolver does not currently take into account all the packages that are installed. This behaviour is the source of the following dependency conflicts.\n",
            "tensorflow 2.12.0 requires numpy<1.24,>=1.22, but you have numpy 1.21.6 which is incompatible.\n",
            "tensorflow 2.12.0 requires protobuf!=4.21.0,!=4.21.1,!=4.21.2,!=4.21.3,!=4.21.4,!=4.21.5,<5.0.0dev,>=3.20.3, but you have protobuf 3.19.6 which is incompatible.\n",
            "tensorflow-metadata 1.13.1 requires protobuf<5,>=3.20.3, but you have protobuf 3.19.6 which is incompatible.\u001b[0m\u001b[31m\n",
            "\u001b[0mSuccessfully installed TTS-0.13.3 aiohttp-3.8.4 aiosignal-1.3.1 anyascii-0.3.2 async-timeout-4.0.2 bangla-0.0.2 bnnumerizer-0.0.2 bnunicodenormalizer-0.1.1 coqpit-0.0.17 cython-0.29.28 dateparser-1.1.8 docopt-0.6.2 frozenlist-1.3.3 g2pkk-0.1.2 gruut-2.2.3 gruut-ipa-0.13.0 gruut_lang_de-2.0.0 gruut_lang_en-2.0.0 inflect-5.6.0 jamo-0.4.1 jsonlines-1.2.0 mecab-python3-1.0.5 multidict-6.0.4 networkx-2.8.8 num2words-0.5.12 numpy-1.21.6 protobuf-3.19.6 pynndescent-0.5.10 pypinyin-0.48.0 pysbd-0.3.4 python-crfsuite-0.9.9 tensorboardX-2.6 trainer-0.0.20 umap-learn-0.5.1 unidic-lite-1.0.8 yarl-1.9.2\n"
          ]
        }
      ]
    },
    {
      "cell_type": "code",
      "source": [
        "!pip install gtts"
      ],
      "metadata": {
        "id": "cYJYmukd0or3"
      },
      "execution_count": null,
      "outputs": []
    },
    {
      "cell_type": "code",
      "source": [
        "!pip install playsound"
      ],
      "metadata": {
        "id": "odievqjS1P6B"
      },
      "execution_count": null,
      "outputs": []
    },
    {
      "cell_type": "code",
      "source": [
        "from TTS.api import TTS\n",
        "#from gtts import gTTS\n",
        "#from playsound import playsound"
      ],
      "metadata": {
        "id": "9WoPUAtH1vI3"
      },
      "execution_count": null,
      "outputs": []
    },
    {
      "cell_type": "code",
      "source": [
        "text = \"안녕하세요 윤대혁이에요\"\n",
        "text_to_voice = gTTS(text = \"안녕하세요 윤대혁이에요\", lang = \"ko\")\n",
        "text_to_voice.save(\"test.wav\")"
      ],
      "metadata": {
        "id": "Y8p0XfFt1cQo"
      },
      "execution_count": null,
      "outputs": []
    },
    {
      "cell_type": "code",
      "source": [
        "gTTS()"
      ],
      "metadata": {
        "id": "hUOxqD8Z-9-M"
      },
      "execution_count": null,
      "outputs": []
    },
    {
      "cell_type": "code",
      "execution_count": null,
      "metadata": {
        "id": "TKtu768dz-fq"
      },
      "outputs": [],
      "source": [
        "from subprocess import call\n",
        "import os\n",
        "import sys\n",
        "\n",
        "if (not os.path.exists(\"korean.py\")):\n",
        "    os.system(\"wget https://raw.githubusercontent.com/TensorSpeech/TensorFlowTTS/master/tensorflow_tts/utils/korean.py -O korean.py\")\n",
        "\n",
        "import korean\n",
        "\n",
        "def run_cmd(command):\n",
        "    try:\n",
        "        print(command)\n",
        "        call(command)\n",
        "    except KeyboardInterrupt:\n",
        "        print(\"Process interrupted\")\n",
        "        sys.exit(1)\n",
        "\n",
        "def inference(text):\n",
        "  cmd = ['tts', '--text', \"\".join(korean.tokenize(text)), '--model_path', '/content/drive/MyDrive/vits-kss-checkpoint_120000.pth', '--config_path', '/content/drive/MyDrive/vits-kss-config.json']\n",
        "  run_cmd(cmd)\n",
        "  return 'tts_output.wav'"
      ]
    },
    {
      "cell_type": "code",
      "source": [
        "inference(\"경영계획 수립 시 연간 판매계획을 근거하여 기초재고 및 재고계획을 반영한 연간 생산계획을 수립하는 과정이 필요합니다.\")"
      ],
      "metadata": {
        "colab": {
          "base_uri": "https://localhost:8080/",
          "height": 74
        },
        "id": "ckRrjSEa1JUJ",
        "outputId": "19012ab8-d5ff-472a-b0db-532c7c3e689d"
      },
      "execution_count": null,
      "outputs": [
        {
          "output_type": "stream",
          "name": "stdout",
          "text": [
            "['tts', '--text', '경영계획 수립 시 연간 판매계획을 근거하여 기초재고 및 재고계획을 반영한 연간 생산계획을 수립하는 과정이 필요합니다.', '--model_path', '/content/drive/MyDrive/vits-kss-checkpoint_120000.pth', '--config_path', '/content/drive/MyDrive/vits-kss-config.json']\n"
          ]
        },
        {
          "output_type": "execute_result",
          "data": {
            "text/plain": [
              "'tts_output.wav'"
            ],
            "application/vnd.google.colaboratory.intrinsic+json": {
              "type": "string"
            }
          },
          "metadata": {},
          "execution_count": 8
        }
      ]
    },
    {
      "cell_type": "code",
      "source": [
        "text = \"\"\"\n",
        "옛날옛적에 한 국가에 커다란 숲이 있었습니다. 그 숲에는 꿈같은 동화같은 살아있는 동물들이 살고 있었습니다. 그 중에서도 가장 유명한 것은 귀여운 곰돌이였습니다.\n",
        "\n",
        "어느 날, 곰돌이는 숲을 걷다가 서로 다른 두 동물들을 만났습니다. 하나는 흰토끼였고, 다른 하나는 검은 고양이였습니다. 둘은 서로가 서로를 싫어하며 늘 다투어만 있었습니다. 곰돌이는 그래서 뭐가 문제인지 물었고, 흰토끼는 \"저는 언제나 밝고 재미있는 것만을 좋아합니다. 하지만 검은 고양이는 언제나 어두운 것을 좋아하고, 불행한 이야기만을 주구장창 합니다.\" 라고 대답했습니다.\n",
        "\n",
        "곰돌이는 이것을 듣고, 어떻게 하면 두 동물이 서로를 이해할 수 있을지 고민해보았습니다. 그러던 중, 한 자물쇠가 있는 문이 눈에 띄었습니다. 곰돌이는 이 문이 열리고 안에 무엇이 있는지 궁금해졌습니다. 문밖에 있는 둘을 불러들여 함께 문 안으로 들어가기로 했습니다.\n",
        "\n",
        "문 안에는 작은 상자가 있었고, 그 안에는 작은 도서관이 있었습니다. 그곳에는 행복한 이야기만 담겨져 있었습니다. 곰돌이는 흰토끼와 검은 고양이에게 이 도서관에서 좋은 이야기들을 읽으며 함께 하면 둘 사이의 갈등이 해결될 수 있겠다고 제안했습니다.\n",
        "\n",
        "흰토끼와 검은 고양이는 곰돌이의 제안에 동의했고, 이제부터는 함께 이야기를 들으며 서로를 이해하기 시작했습니다. 흥미로운 이야기와 재미있는 이야기를 함께 읽으며, 흰토끼와 검은 고양이는 서로를 이해하고 조금씩 서로를 받아들이기 시작했습니다.\n",
        "\n",
        "그리고 언젠가, 흰토끼와 검은 고양이는 더 이상 서로를 마음속에서 밀어내지 않았습니다. 서로가 가지고 있는 다양한 성격을 인정하며 동물들의 행복한 숲에서 이제는 늘 함께 놀 수 있게 되었습니다.\n",
        "\n",
        "이렇게 곰돌이는 두 동물의 문제를 해결해줬고, 서로를 이해하고 받아들이며 함께 살아남을 수 있는 중요성을 알리는 좋은 이야기를 만들어냈습니다. 당신도 이 이야기를 들으며 두 동물의 마음을 이해하고 서로를 받아들일 수 있는 좋은 동화를 만들어 보실 수 있을 것입니다.\n",
        "\"\"\""
      ],
      "metadata": {
        "id": "FGIDi8PkRVem"
      },
      "execution_count": null,
      "outputs": []
    },
    {
      "cell_type": "code",
      "source": [
        "text"
      ],
      "metadata": {
        "colab": {
          "base_uri": "https://localhost:8080/",
          "height": 236
        },
        "id": "X2llBtTZcqvU",
        "outputId": "4dde94d0-8b48-4a6c-d545-0c03324cff4b"
      },
      "execution_count": null,
      "outputs": [
        {
          "output_type": "execute_result",
          "data": {
            "text/plain": [
              "'\\n옛날옛적에 한 국가에 커다란 숲이 있었습니다. 그 숲에는 꿈같은 동화같은 살아있는 동물들이 살고 있었습니다. 그 중에서도 가장 유명한 것은 귀여운 곰돌이였습니다.\\n\\n어느 날, 곰돌이는 숲을 걷다가 서로 다른 두 동물들을 만났습니다. 하나는 흰토끼였고, 다른 하나는 검은 고양이였습니다. 둘은 서로가 서로를 싫어하며 늘 다투어만 있었습니다. 곰돌이는 그래서 뭐가 문제인지 물었고, 흰토끼는 \"저는 언제나 밝고 재미있는 것만을 좋아합니다. 하지만 검은 고양이는 언제나 어두운 것을 좋아하고, 불행한 이야기만을 주구장창 합니다.\" 라고 대답했습니다.\\n\\n곰돌이는 이것을 듣고, 어떻게 하면 두 동물이 서로를 이해할 수 있을지 고민해보았습니다. 그러던 중, 한 자물쇠가 있는 문이 눈에 띄었습니다. 곰돌이는 이 문이 열리고 안에 무엇이 있는지 궁금해졌습니다. 문밖에 있는 둘을 불러들여 함께 문 안으로 들어가기로 했습니다.\\n\\n문 안에는 작은 상자가 있었고, 그 안에는 작은 도서관이 있었습니다. 그곳에는 행복한 이야기만 담겨져 있었습니다. 곰돌이는 흰토끼와 검은 고양이에게 이 도서관에서 좋은 이야기들을 읽으며 함께 하면 둘 사이의 갈등이 해결될 수 있겠다고 제안했습니다.\\n\\n흰토끼와 검은 고양이는 곰돌이의 제안에 동의했고, 이제부터는 함께 이야기를 들으며 서로를 이해하기 시작했습니다. 흥미로운 이야기와 재미있는 이야기를 함께 읽으며, 흰토끼와 검은 고양이는 서로를 이해하고 조금씩 서로를 받아들이기 시작했습니다.\\n\\n그리고 언젠가, 흰토끼와 검은 고양이는 더 이상 서로를 마음속에서 밀어내지 않았습니다. 서로가 가지고 있는 다양한 성격을 인정하며 동물들의 행복한 숲에서 이제는 늘 함께 놀 수 있게 되었습니다.\\n\\n이렇게 곰돌이는 두 동물의 문제를 해결해줬고, 서로를 이해하고 받아들이며 함께 살아남을 수 있는 중요성을 알리는 좋은 이야기를 만들어냈습니다. 당신도 이 이야기를 들으며 두 동물의 마음을 이해하고 서로를 받아들일 수 있는 좋은 동화를 만들어 보실 수 있을 것입니다.\\n'"
            ],
            "application/vnd.google.colaboratory.intrinsic+json": {
              "type": "string"
            }
          },
          "metadata": {},
          "execution_count": 4
        }
      ]
    },
    {
      "cell_type": "code",
      "source": [
        "text = \"\"\"\n",
        "한때 평화롭게 살았던 산과 강, 그리고 하늘에는 맑은 햇살이 떨어졌습니다. \n",
        "하지만 어느 날, 악당 왕 까칠한 하늘을 정복하기 위해 그 곳으로 들이닥쳤습니다. \n",
        "숲도, 강도, 동물도 망가뜨리고, 하늘이 무색해졌습니다. \n",
        "마법을 부리기로 유명한 요정들이 모두 모였습니다. \n",
        "요정들은 한곳에서 모여, 왕을 처벌하기로 결심했습니다. \n",
        "그렇게 요정들은 자신들만의 능력을 발휘하여, 왕을 물리치고 평화롭게 사는 하늘을 되찾았습니다. \n",
        "그렇게 하고 나니 아름다운 하늘아래서 사는 모든 것이 행복해졌습니다.\n",
        "\"\"\""
      ],
      "metadata": {
        "id": "M_BvoRYY5wmK"
      },
      "execution_count": null,
      "outputs": []
    },
    {
      "cell_type": "code",
      "source": [
        "import os\n",
        "import sys\n",
        "import urllib.request\n",
        "encText = urllib.parse.quote(text)\n",
        "data = \"speaker=nsangdo&volume=-5&speed=0&pitch=0&format=wav&text=\" + encText;\n",
        "url = \"https://naveropenapi.apigw.ntruss.com/tts-premium/v1/tts\"\n",
        "request = urllib.request.Request(url)\n",
        "request.add_header(\"X-NCP-APIGW-API-KEY-ID\",client_id)\n",
        "request.add_header(\"X-NCP-APIGW-API-KEY\",client_secret)\n",
        "response = urllib.request.urlopen(request, data=data.encode('utf-8'))\n",
        "rescode = response.getcode()\n",
        "\n",
        "if(rescode==200):\n",
        "    print(\"TTS mp3 저장\")\n",
        "    response_body = response.read()\n",
        "    with open('1111.wav', 'wb') as f:\n",
        "        f.write(response_body)\n",
        "else:\n",
        "    print(\"Error Code:\" + rescode)\n"
      ],
      "metadata": {
        "colab": {
          "base_uri": "https://localhost:8080/"
        },
        "id": "dn9ZoRXVjItb",
        "outputId": "04157b7d-1e2c-4f58-91a7-5d6138177090"
      },
      "execution_count": null,
      "outputs": [
        {
          "output_type": "stream",
          "name": "stdout",
          "text": [
            "TTS mp3 저장\n"
          ]
        }
      ]
    },
    {
      "cell_type": "code",
      "source": [
        "response.read()"
      ],
      "metadata": {
        "colab": {
          "base_uri": "https://localhost:8080/"
        },
        "id": "CU9xkiu2hn7e",
        "outputId": "6a3914b2-136f-4ad9-c381-eb4f2b901729"
      },
      "execution_count": null,
      "outputs": [
        {
          "output_type": "execute_result",
          "data": {
            "text/plain": [
              "<http.client.HTTPResponse at 0x7f73feeaaef0>"
            ]
          },
          "metadata": {},
          "execution_count": 5
        }
      ]
    },
    {
      "cell_type": "code",
      "source": [
        "type(response_body)"
      ],
      "metadata": {
        "colab": {
          "base_uri": "https://localhost:8080/"
        },
        "id": "ypxljOlSRfhB",
        "outputId": "9c365453-3b6c-4301-94e0-9dbf98fc3675"
      },
      "execution_count": null,
      "outputs": [
        {
          "output_type": "execute_result",
          "data": {
            "text/plain": [
              "bytes"
            ]
          },
          "metadata": {},
          "execution_count": 6
        }
      ]
    },
    {
      "cell_type": "code",
      "source": [
        "tts = TTS(model_name=\"voice_conversion_models/multilingual/vctk/freevc24\", progress_bar=False, gpu=False)"
      ],
      "metadata": {
        "colab": {
          "base_uri": "https://localhost:8080/"
        },
        "id": "mzgAPRWC1TgN",
        "outputId": "14614a72-bb90-47c9-cbac-3315eb6544ae"
      },
      "execution_count": null,
      "outputs": [
        {
          "output_type": "stream",
          "name": "stdout",
          "text": [
            " > Downloading model to /root/.local/share/tts/voice_conversion_models--multilingual--vctk--freevc24\n",
            " > Model's license - MIT\n",
            " > Check https://choosealicense.com/licenses/mit/ for more info.\n",
            " > Using model: freevc\n",
            " > Loading pretrained speaker encoder model ...\n",
            "Loaded the voice encoder model on cpu in 0.93 seconds.\n",
            " > Downloading WavLM model to /root/.local/share/tts/wavlm/WavLM-Large.pt ...\n"
          ]
        }
      ]
    },
    {
      "cell_type": "code",
      "source": [
        "tts.voice_conversion_to_file(source_wav=\"/content/1111.wav\", target_wav=\"/content/audio1 (1).wav\", file_path=\"output.wav\")"
      ],
      "metadata": {
        "colab": {
          "base_uri": "https://localhost:8080/",
          "height": 35
        },
        "id": "Vj5LwMkh1yE5",
        "outputId": "bb10cd6a-5fe3-45c2-810f-8ec680743d61"
      },
      "execution_count": null,
      "outputs": [
        {
          "output_type": "execute_result",
          "data": {
            "text/plain": [
              "'output.wav'"
            ],
            "application/vnd.google.colaboratory.intrinsic+json": {
              "type": "string"
            }
          },
          "metadata": {},
          "execution_count": 13
        }
      ]
    },
    {
      "cell_type": "code",
      "source": [
        "import sys\n",
        "import requests\n",
        "lang = \"Kor\" # 언어 코드 ( Kor, Jpn, Eng, Chn )\n",
        "url = \"https://naveropenapi.apigw.ntruss.com/recog/v1/stt?lang=\" + lang\n",
        "data = open('/content/1111.wav', 'rb')\n",
        "headers = {\n",
        "    \"X-NCP-APIGW-API-KEY-ID\": client_id,\n",
        "    \"X-NCP-APIGW-API-KEY\": client_secret,\n",
        "    \"Content-Type\": \"application/octet-stream\"\n",
        "}\n",
        "response = requests.post(url,  data=data, headers=headers)\n",
        "rescode = response.status_code\n",
        "if(rescode == 200):\n",
        "    print (response.text)\n",
        "else:\n",
        "    print(\"Error : \" + response.text)\n"
      ],
      "metadata": {
        "colab": {
          "base_uri": "https://localhost:8080/"
        },
        "id": "_Dw7nkOurUgO",
        "outputId": "4627af9b-a80c-4461-f26a-9b87ee3b981b"
      },
      "execution_count": null,
      "outputs": [
        {
          "output_type": "stream",
          "name": "stdout",
          "text": [
            "{\"text\":\"안녕하세요\"}\n"
          ]
        }
      ]
    },
    {
      "cell_type": "code",
      "source": [
        "TTS.list_models()"
      ],
      "metadata": {
        "colab": {
          "base_uri": "https://localhost:8080/"
        },
        "id": "ncRHr1vt2Hof",
        "outputId": "8c02369e-c789-49d4-ccb4-47f9e179d863"
      },
      "execution_count": null,
      "outputs": [
        {
          "output_type": "stream",
          "name": "stdout",
          "text": [
            "No API token found for 🐸Coqui Studio voices - https://coqui.ai \n",
            "Visit 🔗https://app.coqui.ai/account to get one.\n",
            "Set it as an environment variable `export COQUI_STUDIO_TOKEN=<token>`\n",
            "\n"
          ]
        },
        {
          "output_type": "execute_result",
          "data": {
            "text/plain": [
              "['tts_models/multilingual/multi-dataset/your_tts',\n",
              " 'tts_models/bg/cv/vits',\n",
              " 'tts_models/cs/cv/vits',\n",
              " 'tts_models/da/cv/vits',\n",
              " 'tts_models/et/cv/vits',\n",
              " 'tts_models/ga/cv/vits',\n",
              " 'tts_models/en/ek1/tacotron2',\n",
              " 'tts_models/en/ljspeech/tacotron2-DDC',\n",
              " 'tts_models/en/ljspeech/tacotron2-DDC_ph',\n",
              " 'tts_models/en/ljspeech/glow-tts',\n",
              " 'tts_models/en/ljspeech/speedy-speech',\n",
              " 'tts_models/en/ljspeech/tacotron2-DCA',\n",
              " 'tts_models/en/ljspeech/vits',\n",
              " 'tts_models/en/ljspeech/vits--neon',\n",
              " 'tts_models/en/ljspeech/fast_pitch',\n",
              " 'tts_models/en/ljspeech/overflow',\n",
              " 'tts_models/en/ljspeech/neural_hmm',\n",
              " 'tts_models/en/vctk/vits',\n",
              " 'tts_models/en/vctk/fast_pitch',\n",
              " 'tts_models/en/sam/tacotron-DDC',\n",
              " 'tts_models/en/blizzard2013/capacitron-t2-c50',\n",
              " 'tts_models/en/blizzard2013/capacitron-t2-c150_v2',\n",
              " 'tts_models/es/mai/tacotron2-DDC',\n",
              " 'tts_models/es/css10/vits',\n",
              " 'tts_models/fr/mai/tacotron2-DDC',\n",
              " 'tts_models/fr/css10/vits',\n",
              " 'tts_models/uk/mai/glow-tts',\n",
              " 'tts_models/uk/mai/vits',\n",
              " 'tts_models/zh-CN/baker/tacotron2-DDC-GST',\n",
              " 'tts_models/nl/mai/tacotron2-DDC',\n",
              " 'tts_models/nl/css10/vits',\n",
              " 'tts_models/de/thorsten/tacotron2-DCA',\n",
              " 'tts_models/de/thorsten/vits',\n",
              " 'tts_models/de/thorsten/tacotron2-DDC',\n",
              " 'tts_models/de/css10/vits-neon',\n",
              " 'tts_models/ja/kokoro/tacotron2-DDC',\n",
              " 'tts_models/tr/common-voice/glow-tts',\n",
              " 'tts_models/it/mai_female/glow-tts',\n",
              " 'tts_models/it/mai_female/vits',\n",
              " 'tts_models/it/mai_male/glow-tts',\n",
              " 'tts_models/it/mai_male/vits',\n",
              " 'tts_models/ewe/openbible/vits',\n",
              " 'tts_models/hau/openbible/vits',\n",
              " 'tts_models/lin/openbible/vits',\n",
              " 'tts_models/tw_akuapem/openbible/vits',\n",
              " 'tts_models/tw_asante/openbible/vits',\n",
              " 'tts_models/yor/openbible/vits',\n",
              " 'tts_models/hu/css10/vits',\n",
              " 'tts_models/el/cv/vits',\n",
              " 'tts_models/fi/css10/vits',\n",
              " 'tts_models/hr/cv/vits',\n",
              " 'tts_models/lt/cv/vits',\n",
              " 'tts_models/lv/cv/vits',\n",
              " 'tts_models/mt/cv/vits',\n",
              " 'tts_models/pl/mai_female/vits',\n",
              " 'tts_models/pt/cv/vits',\n",
              " 'tts_models/ro/cv/vits',\n",
              " 'tts_models/sk/cv/vits',\n",
              " 'tts_models/sl/cv/vits',\n",
              " 'tts_models/sv/cv/vits',\n",
              " 'tts_models/ca/custom/vits',\n",
              " 'tts_models/fa/custom/glow-tts']"
            ]
          },
          "metadata": {},
          "execution_count": 10
        }
      ]
    }
  ]
}